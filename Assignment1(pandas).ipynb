{
  "nbformat": 4,
  "nbformat_minor": 0,
  "metadata": {
    "colab": {
      "name": "Assignment1(pandas)",
      "provenance": [],
      "collapsed_sections": [],
      "authorship_tag": "ABX9TyObQxYF73ID1SnDR3ASZx5v",
      "include_colab_link": true
    },
    "kernelspec": {
      "name": "python3",
      "display_name": "Python 3"
    }
  },
  "cells": [
    {
      "cell_type": "markdown",
      "metadata": {
        "id": "view-in-github",
        "colab_type": "text"
      },
      "source": [
        "<a href=\"https://colab.research.google.com/github/shakthi-stack/DataScience15cse431/blob/master/Assignment1(pandas).ipynb\" target=\"_parent\"><img src=\"https://colab.research.google.com/assets/colab-badge.svg\" alt=\"Open In Colab\"/></a>"
      ]
    },
    {
      "cell_type": "markdown",
      "metadata": {
        "id": "w92p9IFGyRTY",
        "colab_type": "text"
      },
      "source": [
        "# Dataset 1"
      ]
    },
    {
      "cell_type": "markdown",
      "metadata": {
        "id": "HyihEWfAc7V0",
        "colab_type": "text"
      },
      "source": [
        "1.Import the data from here https://www.kaggle.com/wsj/college-salaries and use this data degrees-that-pay-back.csv"
      ]
    },
    {
      "cell_type": "code",
      "metadata": {
        "id": "KUrCi_a6W297",
        "colab_type": "code",
        "colab": {
          "base_uri": "https://localhost:8080/",
          "height": 34
        },
        "outputId": "279ff83b-72d2-4d63-e2a0-a7ffb171cfae"
      },
      "source": [
        "from google.colab import drive\n",
        "drive.mount(\"/content/drive\")"
      ],
      "execution_count": 238,
      "outputs": [
        {
          "output_type": "stream",
          "text": [
            "Drive already mounted at /content/drive; to attempt to forcibly remount, call drive.mount(\"/content/drive\", force_remount=True).\n"
          ],
          "name": "stdout"
        }
      ]
    },
    {
      "cell_type": "code",
      "metadata": {
        "id": "xCebVooPVv9z",
        "colab_type": "code",
        "colab": {}
      },
      "source": [
        "\n",
        "import pandas as pd\n"
      ],
      "execution_count": 239,
      "outputs": []
    },
    {
      "cell_type": "code",
      "metadata": {
        "id": "4ghHnChXWDKn",
        "colab_type": "code",
        "colab": {}
      },
      "source": [
        "df=pd.read_csv(\"/content/drive/My Drive/Colab Notebooks/datasets_1189_2137_degrees-that-pay-back.csv\")\n"
      ],
      "execution_count": 240,
      "outputs": []
    },
    {
      "cell_type": "markdown",
      "metadata": {
        "id": "n34XA_7GXc0Y",
        "colab_type": "text"
      },
      "source": [
        "2. DIsplay all columns"
      ]
    },
    {
      "cell_type": "code",
      "metadata": {
        "id": "N82k7COqWVdm",
        "colab_type": "code",
        "colab": {
          "base_uri": "https://localhost:8080/",
          "height": 1000
        },
        "outputId": "f44414ed-1f60-4c52-9ba6-0efd80376931"
      },
      "source": [
        "df"
      ],
      "execution_count": 241,
      "outputs": [
        {
          "output_type": "execute_result",
          "data": {
            "text/html": [
              "<div>\n",
              "<style scoped>\n",
              "    .dataframe tbody tr th:only-of-type {\n",
              "        vertical-align: middle;\n",
              "    }\n",
              "\n",
              "    .dataframe tbody tr th {\n",
              "        vertical-align: top;\n",
              "    }\n",
              "\n",
              "    .dataframe thead th {\n",
              "        text-align: right;\n",
              "    }\n",
              "</style>\n",
              "<table border=\"1\" class=\"dataframe\">\n",
              "  <thead>\n",
              "    <tr style=\"text-align: right;\">\n",
              "      <th></th>\n",
              "      <th>Undergraduate Major</th>\n",
              "      <th>Starting Median Salary</th>\n",
              "      <th>Mid-Career Median Salary</th>\n",
              "      <th>Percent change from Starting to Mid-Career Salary</th>\n",
              "      <th>Mid-Career 10th Percentile Salary</th>\n",
              "      <th>Mid-Career 25th Percentile Salary</th>\n",
              "      <th>Mid-Career 75th Percentile Salary</th>\n",
              "      <th>Mid-Career 90th Percentile Salary</th>\n",
              "    </tr>\n",
              "  </thead>\n",
              "  <tbody>\n",
              "    <tr>\n",
              "      <th>0</th>\n",
              "      <td>Accounting</td>\n",
              "      <td>$46,000.00</td>\n",
              "      <td>$77,100.00</td>\n",
              "      <td>67.6</td>\n",
              "      <td>$42,200.00</td>\n",
              "      <td>$56,100.00</td>\n",
              "      <td>$108,000.00</td>\n",
              "      <td>$152,000.00</td>\n",
              "    </tr>\n",
              "    <tr>\n",
              "      <th>1</th>\n",
              "      <td>Aerospace Engineering</td>\n",
              "      <td>$57,700.00</td>\n",
              "      <td>$101,000.00</td>\n",
              "      <td>75.0</td>\n",
              "      <td>$64,300.00</td>\n",
              "      <td>$82,100.00</td>\n",
              "      <td>$127,000.00</td>\n",
              "      <td>$161,000.00</td>\n",
              "    </tr>\n",
              "    <tr>\n",
              "      <th>2</th>\n",
              "      <td>Agriculture</td>\n",
              "      <td>$42,600.00</td>\n",
              "      <td>$71,900.00</td>\n",
              "      <td>68.8</td>\n",
              "      <td>$36,300.00</td>\n",
              "      <td>$52,100.00</td>\n",
              "      <td>$96,300.00</td>\n",
              "      <td>$150,000.00</td>\n",
              "    </tr>\n",
              "    <tr>\n",
              "      <th>3</th>\n",
              "      <td>Anthropology</td>\n",
              "      <td>$36,800.00</td>\n",
              "      <td>$61,500.00</td>\n",
              "      <td>67.1</td>\n",
              "      <td>$33,800.00</td>\n",
              "      <td>$45,500.00</td>\n",
              "      <td>$89,300.00</td>\n",
              "      <td>$138,000.00</td>\n",
              "    </tr>\n",
              "    <tr>\n",
              "      <th>4</th>\n",
              "      <td>Architecture</td>\n",
              "      <td>$41,600.00</td>\n",
              "      <td>$76,800.00</td>\n",
              "      <td>84.6</td>\n",
              "      <td>$50,600.00</td>\n",
              "      <td>$62,200.00</td>\n",
              "      <td>$97,000.00</td>\n",
              "      <td>$136,000.00</td>\n",
              "    </tr>\n",
              "    <tr>\n",
              "      <th>5</th>\n",
              "      <td>Art History</td>\n",
              "      <td>$35,800.00</td>\n",
              "      <td>$64,900.00</td>\n",
              "      <td>81.3</td>\n",
              "      <td>$28,800.00</td>\n",
              "      <td>$42,200.00</td>\n",
              "      <td>$87,400.00</td>\n",
              "      <td>$125,000.00</td>\n",
              "    </tr>\n",
              "    <tr>\n",
              "      <th>6</th>\n",
              "      <td>Biology</td>\n",
              "      <td>$38,800.00</td>\n",
              "      <td>$64,800.00</td>\n",
              "      <td>67.0</td>\n",
              "      <td>$36,900.00</td>\n",
              "      <td>$47,400.00</td>\n",
              "      <td>$94,500.00</td>\n",
              "      <td>$135,000.00</td>\n",
              "    </tr>\n",
              "    <tr>\n",
              "      <th>7</th>\n",
              "      <td>Business Management</td>\n",
              "      <td>$43,000.00</td>\n",
              "      <td>$72,100.00</td>\n",
              "      <td>67.7</td>\n",
              "      <td>$38,800.00</td>\n",
              "      <td>$51,500.00</td>\n",
              "      <td>$102,000.00</td>\n",
              "      <td>$147,000.00</td>\n",
              "    </tr>\n",
              "    <tr>\n",
              "      <th>8</th>\n",
              "      <td>Chemical Engineering</td>\n",
              "      <td>$63,200.00</td>\n",
              "      <td>$107,000.00</td>\n",
              "      <td>69.3</td>\n",
              "      <td>$71,900.00</td>\n",
              "      <td>$87,300.00</td>\n",
              "      <td>$143,000.00</td>\n",
              "      <td>$194,000.00</td>\n",
              "    </tr>\n",
              "    <tr>\n",
              "      <th>9</th>\n",
              "      <td>Chemistry</td>\n",
              "      <td>$42,600.00</td>\n",
              "      <td>$79,900.00</td>\n",
              "      <td>87.6</td>\n",
              "      <td>$45,300.00</td>\n",
              "      <td>$60,700.00</td>\n",
              "      <td>$108,000.00</td>\n",
              "      <td>$148,000.00</td>\n",
              "    </tr>\n",
              "    <tr>\n",
              "      <th>10</th>\n",
              "      <td>Civil Engineering</td>\n",
              "      <td>$53,900.00</td>\n",
              "      <td>$90,500.00</td>\n",
              "      <td>67.9</td>\n",
              "      <td>$63,400.00</td>\n",
              "      <td>$75,100.00</td>\n",
              "      <td>$115,000.00</td>\n",
              "      <td>$148,000.00</td>\n",
              "    </tr>\n",
              "    <tr>\n",
              "      <th>11</th>\n",
              "      <td>Communications</td>\n",
              "      <td>$38,100.00</td>\n",
              "      <td>$70,000.00</td>\n",
              "      <td>83.7</td>\n",
              "      <td>$37,500.00</td>\n",
              "      <td>$49,700.00</td>\n",
              "      <td>$98,800.00</td>\n",
              "      <td>$143,000.00</td>\n",
              "    </tr>\n",
              "    <tr>\n",
              "      <th>12</th>\n",
              "      <td>Computer Engineering</td>\n",
              "      <td>$61,400.00</td>\n",
              "      <td>$105,000.00</td>\n",
              "      <td>71.0</td>\n",
              "      <td>$66,100.00</td>\n",
              "      <td>$84,100.00</td>\n",
              "      <td>$135,000.00</td>\n",
              "      <td>$162,000.00</td>\n",
              "    </tr>\n",
              "    <tr>\n",
              "      <th>13</th>\n",
              "      <td>Computer Science</td>\n",
              "      <td>$55,900.00</td>\n",
              "      <td>$95,500.00</td>\n",
              "      <td>70.8</td>\n",
              "      <td>$56,000.00</td>\n",
              "      <td>$74,900.00</td>\n",
              "      <td>$122,000.00</td>\n",
              "      <td>$154,000.00</td>\n",
              "    </tr>\n",
              "    <tr>\n",
              "      <th>14</th>\n",
              "      <td>Construction</td>\n",
              "      <td>$53,700.00</td>\n",
              "      <td>$88,900.00</td>\n",
              "      <td>65.5</td>\n",
              "      <td>$56,300.00</td>\n",
              "      <td>$68,100.00</td>\n",
              "      <td>$118,000.00</td>\n",
              "      <td>$171,000.00</td>\n",
              "    </tr>\n",
              "    <tr>\n",
              "      <th>15</th>\n",
              "      <td>Criminal Justice</td>\n",
              "      <td>$35,000.00</td>\n",
              "      <td>$56,300.00</td>\n",
              "      <td>60.9</td>\n",
              "      <td>$32,200.00</td>\n",
              "      <td>$41,600.00</td>\n",
              "      <td>$80,700.00</td>\n",
              "      <td>$107,000.00</td>\n",
              "    </tr>\n",
              "    <tr>\n",
              "      <th>16</th>\n",
              "      <td>Drama</td>\n",
              "      <td>$35,900.00</td>\n",
              "      <td>$56,900.00</td>\n",
              "      <td>58.5</td>\n",
              "      <td>$36,700.00</td>\n",
              "      <td>$41,300.00</td>\n",
              "      <td>$79,100.00</td>\n",
              "      <td>$153,000.00</td>\n",
              "    </tr>\n",
              "    <tr>\n",
              "      <th>17</th>\n",
              "      <td>Economics</td>\n",
              "      <td>$50,100.00</td>\n",
              "      <td>$98,600.00</td>\n",
              "      <td>96.8</td>\n",
              "      <td>$50,600.00</td>\n",
              "      <td>$70,600.00</td>\n",
              "      <td>$145,000.00</td>\n",
              "      <td>$210,000.00</td>\n",
              "    </tr>\n",
              "    <tr>\n",
              "      <th>18</th>\n",
              "      <td>Education</td>\n",
              "      <td>$34,900.00</td>\n",
              "      <td>$52,000.00</td>\n",
              "      <td>49.0</td>\n",
              "      <td>$29,300.00</td>\n",
              "      <td>$37,900.00</td>\n",
              "      <td>$73,400.00</td>\n",
              "      <td>$102,000.00</td>\n",
              "    </tr>\n",
              "    <tr>\n",
              "      <th>19</th>\n",
              "      <td>Electrical Engineering</td>\n",
              "      <td>$60,900.00</td>\n",
              "      <td>$103,000.00</td>\n",
              "      <td>69.1</td>\n",
              "      <td>$69,300.00</td>\n",
              "      <td>$83,800.00</td>\n",
              "      <td>$130,000.00</td>\n",
              "      <td>$168,000.00</td>\n",
              "    </tr>\n",
              "    <tr>\n",
              "      <th>20</th>\n",
              "      <td>English</td>\n",
              "      <td>$38,000.00</td>\n",
              "      <td>$64,700.00</td>\n",
              "      <td>70.3</td>\n",
              "      <td>$33,400.00</td>\n",
              "      <td>$44,800.00</td>\n",
              "      <td>$93,200.00</td>\n",
              "      <td>$133,000.00</td>\n",
              "    </tr>\n",
              "    <tr>\n",
              "      <th>21</th>\n",
              "      <td>Film</td>\n",
              "      <td>$37,900.00</td>\n",
              "      <td>$68,500.00</td>\n",
              "      <td>80.7</td>\n",
              "      <td>$33,900.00</td>\n",
              "      <td>$45,500.00</td>\n",
              "      <td>$100,000.00</td>\n",
              "      <td>$136,000.00</td>\n",
              "    </tr>\n",
              "    <tr>\n",
              "      <th>22</th>\n",
              "      <td>Finance</td>\n",
              "      <td>$47,900.00</td>\n",
              "      <td>$88,300.00</td>\n",
              "      <td>84.3</td>\n",
              "      <td>$47,200.00</td>\n",
              "      <td>$62,100.00</td>\n",
              "      <td>$128,000.00</td>\n",
              "      <td>$195,000.00</td>\n",
              "    </tr>\n",
              "    <tr>\n",
              "      <th>23</th>\n",
              "      <td>Forestry</td>\n",
              "      <td>$39,100.00</td>\n",
              "      <td>$62,600.00</td>\n",
              "      <td>60.1</td>\n",
              "      <td>$41,000.00</td>\n",
              "      <td>$49,300.00</td>\n",
              "      <td>$78,200.00</td>\n",
              "      <td>$111,000.00</td>\n",
              "    </tr>\n",
              "    <tr>\n",
              "      <th>24</th>\n",
              "      <td>Geography</td>\n",
              "      <td>$41,200.00</td>\n",
              "      <td>$65,500.00</td>\n",
              "      <td>59.0</td>\n",
              "      <td>$40,000.00</td>\n",
              "      <td>$50,000.00</td>\n",
              "      <td>$90,800.00</td>\n",
              "      <td>$132,000.00</td>\n",
              "    </tr>\n",
              "    <tr>\n",
              "      <th>25</th>\n",
              "      <td>Geology</td>\n",
              "      <td>$43,500.00</td>\n",
              "      <td>$79,500.00</td>\n",
              "      <td>82.8</td>\n",
              "      <td>$45,000.00</td>\n",
              "      <td>$59,600.00</td>\n",
              "      <td>$101,000.00</td>\n",
              "      <td>$156,000.00</td>\n",
              "    </tr>\n",
              "    <tr>\n",
              "      <th>26</th>\n",
              "      <td>Graphic Design</td>\n",
              "      <td>$35,700.00</td>\n",
              "      <td>$59,800.00</td>\n",
              "      <td>67.5</td>\n",
              "      <td>$36,000.00</td>\n",
              "      <td>$45,500.00</td>\n",
              "      <td>$80,800.00</td>\n",
              "      <td>$112,000.00</td>\n",
              "    </tr>\n",
              "    <tr>\n",
              "      <th>27</th>\n",
              "      <td>Health Care Administration</td>\n",
              "      <td>$38,800.00</td>\n",
              "      <td>$60,600.00</td>\n",
              "      <td>56.2</td>\n",
              "      <td>$34,600.00</td>\n",
              "      <td>$45,600.00</td>\n",
              "      <td>$78,800.00</td>\n",
              "      <td>$101,000.00</td>\n",
              "    </tr>\n",
              "    <tr>\n",
              "      <th>28</th>\n",
              "      <td>History</td>\n",
              "      <td>$39,200.00</td>\n",
              "      <td>$71,000.00</td>\n",
              "      <td>81.1</td>\n",
              "      <td>$37,000.00</td>\n",
              "      <td>$49,200.00</td>\n",
              "      <td>$103,000.00</td>\n",
              "      <td>$149,000.00</td>\n",
              "    </tr>\n",
              "    <tr>\n",
              "      <th>29</th>\n",
              "      <td>Hospitality &amp; Tourism</td>\n",
              "      <td>$37,800.00</td>\n",
              "      <td>$57,500.00</td>\n",
              "      <td>52.1</td>\n",
              "      <td>$35,500.00</td>\n",
              "      <td>$43,600.00</td>\n",
              "      <td>$81,900.00</td>\n",
              "      <td>$124,000.00</td>\n",
              "    </tr>\n",
              "    <tr>\n",
              "      <th>30</th>\n",
              "      <td>Industrial Engineering</td>\n",
              "      <td>$57,700.00</td>\n",
              "      <td>$94,700.00</td>\n",
              "      <td>64.1</td>\n",
              "      <td>$57,100.00</td>\n",
              "      <td>$72,300.00</td>\n",
              "      <td>$132,000.00</td>\n",
              "      <td>$173,000.00</td>\n",
              "    </tr>\n",
              "    <tr>\n",
              "      <th>31</th>\n",
              "      <td>Information Technology (IT)</td>\n",
              "      <td>$49,100.00</td>\n",
              "      <td>$74,800.00</td>\n",
              "      <td>52.3</td>\n",
              "      <td>$44,500.00</td>\n",
              "      <td>$56,700.00</td>\n",
              "      <td>$96,700.00</td>\n",
              "      <td>$129,000.00</td>\n",
              "    </tr>\n",
              "    <tr>\n",
              "      <th>32</th>\n",
              "      <td>Interior Design</td>\n",
              "      <td>$36,100.00</td>\n",
              "      <td>$53,200.00</td>\n",
              "      <td>47.4</td>\n",
              "      <td>$35,700.00</td>\n",
              "      <td>$42,600.00</td>\n",
              "      <td>$72,500.00</td>\n",
              "      <td>$107,000.00</td>\n",
              "    </tr>\n",
              "    <tr>\n",
              "      <th>33</th>\n",
              "      <td>International Relations</td>\n",
              "      <td>$40,900.00</td>\n",
              "      <td>$80,900.00</td>\n",
              "      <td>97.8</td>\n",
              "      <td>$38,200.00</td>\n",
              "      <td>$56,000.00</td>\n",
              "      <td>$111,000.00</td>\n",
              "      <td>$157,000.00</td>\n",
              "    </tr>\n",
              "    <tr>\n",
              "      <th>34</th>\n",
              "      <td>Journalism</td>\n",
              "      <td>$35,600.00</td>\n",
              "      <td>$66,700.00</td>\n",
              "      <td>87.4</td>\n",
              "      <td>$38,400.00</td>\n",
              "      <td>$48,300.00</td>\n",
              "      <td>$97,700.00</td>\n",
              "      <td>$145,000.00</td>\n",
              "    </tr>\n",
              "    <tr>\n",
              "      <th>35</th>\n",
              "      <td>Management Information Systems (MIS)</td>\n",
              "      <td>$49,200.00</td>\n",
              "      <td>$82,300.00</td>\n",
              "      <td>67.3</td>\n",
              "      <td>$45,300.00</td>\n",
              "      <td>$60,500.00</td>\n",
              "      <td>$108,000.00</td>\n",
              "      <td>$146,000.00</td>\n",
              "    </tr>\n",
              "    <tr>\n",
              "      <th>36</th>\n",
              "      <td>Marketing</td>\n",
              "      <td>$40,800.00</td>\n",
              "      <td>$79,600.00</td>\n",
              "      <td>95.1</td>\n",
              "      <td>$42,100.00</td>\n",
              "      <td>$55,600.00</td>\n",
              "      <td>$119,000.00</td>\n",
              "      <td>$175,000.00</td>\n",
              "    </tr>\n",
              "    <tr>\n",
              "      <th>37</th>\n",
              "      <td>Math</td>\n",
              "      <td>$45,400.00</td>\n",
              "      <td>$92,400.00</td>\n",
              "      <td>103.5</td>\n",
              "      <td>$45,200.00</td>\n",
              "      <td>$64,200.00</td>\n",
              "      <td>$128,000.00</td>\n",
              "      <td>$183,000.00</td>\n",
              "    </tr>\n",
              "    <tr>\n",
              "      <th>38</th>\n",
              "      <td>Mechanical Engineering</td>\n",
              "      <td>$57,900.00</td>\n",
              "      <td>$93,600.00</td>\n",
              "      <td>61.7</td>\n",
              "      <td>$63,700.00</td>\n",
              "      <td>$76,200.00</td>\n",
              "      <td>$120,000.00</td>\n",
              "      <td>$163,000.00</td>\n",
              "    </tr>\n",
              "    <tr>\n",
              "      <th>39</th>\n",
              "      <td>Music</td>\n",
              "      <td>$35,900.00</td>\n",
              "      <td>$55,000.00</td>\n",
              "      <td>53.2</td>\n",
              "      <td>$26,700.00</td>\n",
              "      <td>$40,200.00</td>\n",
              "      <td>$88,000.00</td>\n",
              "      <td>$134,000.00</td>\n",
              "    </tr>\n",
              "    <tr>\n",
              "      <th>40</th>\n",
              "      <td>Nursing</td>\n",
              "      <td>$54,200.00</td>\n",
              "      <td>$67,000.00</td>\n",
              "      <td>23.6</td>\n",
              "      <td>$47,600.00</td>\n",
              "      <td>$56,400.00</td>\n",
              "      <td>$80,900.00</td>\n",
              "      <td>$98,300.00</td>\n",
              "    </tr>\n",
              "    <tr>\n",
              "      <th>41</th>\n",
              "      <td>Nutrition</td>\n",
              "      <td>$39,900.00</td>\n",
              "      <td>$55,300.00</td>\n",
              "      <td>38.6</td>\n",
              "      <td>$33,900.00</td>\n",
              "      <td>$44,500.00</td>\n",
              "      <td>$70,500.00</td>\n",
              "      <td>$99,200.00</td>\n",
              "    </tr>\n",
              "    <tr>\n",
              "      <th>42</th>\n",
              "      <td>Philosophy</td>\n",
              "      <td>$39,900.00</td>\n",
              "      <td>$81,200.00</td>\n",
              "      <td>103.5</td>\n",
              "      <td>$35,500.00</td>\n",
              "      <td>$52,800.00</td>\n",
              "      <td>$127,000.00</td>\n",
              "      <td>$168,000.00</td>\n",
              "    </tr>\n",
              "    <tr>\n",
              "      <th>43</th>\n",
              "      <td>Physician Assistant</td>\n",
              "      <td>$74,300.00</td>\n",
              "      <td>$91,700.00</td>\n",
              "      <td>23.4</td>\n",
              "      <td>$66,400.00</td>\n",
              "      <td>$75,200.00</td>\n",
              "      <td>$108,000.00</td>\n",
              "      <td>$124,000.00</td>\n",
              "    </tr>\n",
              "    <tr>\n",
              "      <th>44</th>\n",
              "      <td>Physics</td>\n",
              "      <td>$50,300.00</td>\n",
              "      <td>$97,300.00</td>\n",
              "      <td>93.4</td>\n",
              "      <td>$56,000.00</td>\n",
              "      <td>$74,200.00</td>\n",
              "      <td>$132,000.00</td>\n",
              "      <td>$178,000.00</td>\n",
              "    </tr>\n",
              "    <tr>\n",
              "      <th>45</th>\n",
              "      <td>Political Science</td>\n",
              "      <td>$40,800.00</td>\n",
              "      <td>$78,200.00</td>\n",
              "      <td>91.7</td>\n",
              "      <td>$41,200.00</td>\n",
              "      <td>$55,300.00</td>\n",
              "      <td>$114,000.00</td>\n",
              "      <td>$168,000.00</td>\n",
              "    </tr>\n",
              "    <tr>\n",
              "      <th>46</th>\n",
              "      <td>Psychology</td>\n",
              "      <td>$35,900.00</td>\n",
              "      <td>$60,400.00</td>\n",
              "      <td>68.2</td>\n",
              "      <td>$31,600.00</td>\n",
              "      <td>$42,100.00</td>\n",
              "      <td>$87,500.00</td>\n",
              "      <td>$127,000.00</td>\n",
              "    </tr>\n",
              "    <tr>\n",
              "      <th>47</th>\n",
              "      <td>Religion</td>\n",
              "      <td>$34,100.00</td>\n",
              "      <td>$52,000.00</td>\n",
              "      <td>52.5</td>\n",
              "      <td>$29,700.00</td>\n",
              "      <td>$36,500.00</td>\n",
              "      <td>$70,900.00</td>\n",
              "      <td>$96,400.00</td>\n",
              "    </tr>\n",
              "    <tr>\n",
              "      <th>48</th>\n",
              "      <td>Sociology</td>\n",
              "      <td>$36,500.00</td>\n",
              "      <td>$58,200.00</td>\n",
              "      <td>59.5</td>\n",
              "      <td>$30,700.00</td>\n",
              "      <td>$40,400.00</td>\n",
              "      <td>$81,200.00</td>\n",
              "      <td>$118,000.00</td>\n",
              "    </tr>\n",
              "    <tr>\n",
              "      <th>49</th>\n",
              "      <td>Spanish</td>\n",
              "      <td>$34,000.00</td>\n",
              "      <td>$53,100.00</td>\n",
              "      <td>56.2</td>\n",
              "      <td>$31,000.00</td>\n",
              "      <td>$40,000.00</td>\n",
              "      <td>$76,800.00</td>\n",
              "      <td>$96,400.00</td>\n",
              "    </tr>\n",
              "  </tbody>\n",
              "</table>\n",
              "</div>"
            ],
            "text/plain": [
              "                     Undergraduate Major  ... Mid-Career 90th Percentile Salary\n",
              "0                             Accounting  ...                       $152,000.00\n",
              "1                  Aerospace Engineering  ...                       $161,000.00\n",
              "2                            Agriculture  ...                       $150,000.00\n",
              "3                           Anthropology  ...                       $138,000.00\n",
              "4                           Architecture  ...                       $136,000.00\n",
              "5                            Art History  ...                       $125,000.00\n",
              "6                                Biology  ...                       $135,000.00\n",
              "7                    Business Management  ...                       $147,000.00\n",
              "8                   Chemical Engineering  ...                       $194,000.00\n",
              "9                              Chemistry  ...                       $148,000.00\n",
              "10                     Civil Engineering  ...                       $148,000.00\n",
              "11                        Communications  ...                       $143,000.00\n",
              "12                  Computer Engineering  ...                       $162,000.00\n",
              "13                      Computer Science  ...                       $154,000.00\n",
              "14                          Construction  ...                       $171,000.00\n",
              "15                      Criminal Justice  ...                       $107,000.00\n",
              "16                                 Drama  ...                       $153,000.00\n",
              "17                             Economics  ...                       $210,000.00\n",
              "18                             Education  ...                       $102,000.00\n",
              "19                Electrical Engineering  ...                       $168,000.00\n",
              "20                               English  ...                       $133,000.00\n",
              "21                                  Film  ...                       $136,000.00\n",
              "22                               Finance  ...                       $195,000.00\n",
              "23                              Forestry  ...                       $111,000.00\n",
              "24                             Geography  ...                       $132,000.00\n",
              "25                               Geology  ...                       $156,000.00\n",
              "26                        Graphic Design  ...                       $112,000.00\n",
              "27            Health Care Administration  ...                       $101,000.00\n",
              "28                               History  ...                       $149,000.00\n",
              "29                 Hospitality & Tourism  ...                       $124,000.00\n",
              "30                Industrial Engineering  ...                       $173,000.00\n",
              "31           Information Technology (IT)  ...                       $129,000.00\n",
              "32                       Interior Design  ...                       $107,000.00\n",
              "33               International Relations  ...                       $157,000.00\n",
              "34                            Journalism  ...                       $145,000.00\n",
              "35  Management Information Systems (MIS)  ...                       $146,000.00\n",
              "36                             Marketing  ...                       $175,000.00\n",
              "37                                  Math  ...                       $183,000.00\n",
              "38                Mechanical Engineering  ...                       $163,000.00\n",
              "39                                 Music  ...                       $134,000.00\n",
              "40                               Nursing  ...                        $98,300.00\n",
              "41                             Nutrition  ...                        $99,200.00\n",
              "42                            Philosophy  ...                       $168,000.00\n",
              "43                   Physician Assistant  ...                       $124,000.00\n",
              "44                               Physics  ...                       $178,000.00\n",
              "45                     Political Science  ...                       $168,000.00\n",
              "46                            Psychology  ...                       $127,000.00\n",
              "47                              Religion  ...                        $96,400.00\n",
              "48                             Sociology  ...                       $118,000.00\n",
              "49                               Spanish  ...                        $96,400.00\n",
              "\n",
              "[50 rows x 8 columns]"
            ]
          },
          "metadata": {
            "tags": []
          },
          "execution_count": 241
        }
      ]
    },
    {
      "cell_type": "markdown",
      "metadata": {
        "id": "a2y03u8Zamal",
        "colab_type": "text"
      },
      "source": [
        "3.\tDisplay the size of the dataset"
      ]
    },
    {
      "cell_type": "code",
      "metadata": {
        "id": "d4yEEy42aJ5f",
        "colab_type": "code",
        "colab": {
          "base_uri": "https://localhost:8080/",
          "height": 34
        },
        "outputId": "1e689f1d-31cd-4932-b4e9-73e65cdb8255"
      },
      "source": [
        "col,row=df.shape\n",
        "print(col,\"x\",row)"
      ],
      "execution_count": 242,
      "outputs": [
        {
          "output_type": "stream",
          "text": [
            "50 x 8\n"
          ],
          "name": "stdout"
        }
      ]
    },
    {
      "cell_type": "code",
      "metadata": {
        "id": "DvZ9P_B6XhJ0",
        "colab_type": "code",
        "colab": {
          "base_uri": "https://localhost:8080/",
          "height": 34
        },
        "outputId": "e04ad81b-e6ad-4498-ab7c-b5f8676db3c2"
      },
      "source": [
        "df.size\n"
      ],
      "execution_count": 243,
      "outputs": [
        {
          "output_type": "execute_result",
          "data": {
            "text/plain": [
              "400"
            ]
          },
          "metadata": {
            "tags": []
          },
          "execution_count": 243
        }
      ]
    },
    {
      "cell_type": "markdown",
      "metadata": {
        "id": "g51ItW12csnk",
        "colab_type": "text"
      },
      "source": [
        "4.Rename the columns like this ['major','Start Med Sal', 'Mid Career Med Sal', 'Start-Mid Career Sal Change', '10%tile Sal','25%tile Sal','75%tile Sal','90%tileSal']"
      ]
    },
    {
      "cell_type": "code",
      "metadata": {
        "id": "0TKOnb1uX3-R",
        "colab_type": "code",
        "colab": {}
      },
      "source": [
        "df.rename(columns={\n",
        "    'Undergraduate Major':'major',\n",
        "    'Starting Median Salary':'Start Med Sal',\n",
        "    'Mid-Career Median Salary':'Mid Career Med Sal',\n",
        "    'Percent change from Starting to Mid-Career Salary':'Start-Mid Career Sal Change',\n",
        "    'Mid-Career 10th Percentile Salary':'10%tile Sal',\n",
        "    'Mid-Career 25th Percentile Salary':'25%tile Sal',\n",
        "    'Mid-Career 75th Percentile Salary':'75%tile Sal',\n",
        "    'Mid-Career 90th Percentile Salary':'90%tileSal'\n",
        "    \n",
        "},inplace=True)"
      ],
      "execution_count": 244,
      "outputs": []
    },
    {
      "cell_type": "code",
      "metadata": {
        "id": "WYFuxbkKcZZU",
        "colab_type": "code",
        "colab": {
          "base_uri": "https://localhost:8080/",
          "height": 1000
        },
        "outputId": "0d2b2a36-9b57-48e7-f7e3-82aec8d3ef6e"
      },
      "source": [
        "df"
      ],
      "execution_count": 245,
      "outputs": [
        {
          "output_type": "execute_result",
          "data": {
            "text/html": [
              "<div>\n",
              "<style scoped>\n",
              "    .dataframe tbody tr th:only-of-type {\n",
              "        vertical-align: middle;\n",
              "    }\n",
              "\n",
              "    .dataframe tbody tr th {\n",
              "        vertical-align: top;\n",
              "    }\n",
              "\n",
              "    .dataframe thead th {\n",
              "        text-align: right;\n",
              "    }\n",
              "</style>\n",
              "<table border=\"1\" class=\"dataframe\">\n",
              "  <thead>\n",
              "    <tr style=\"text-align: right;\">\n",
              "      <th></th>\n",
              "      <th>major</th>\n",
              "      <th>Start Med Sal</th>\n",
              "      <th>Mid Career Med Sal</th>\n",
              "      <th>Start-Mid Career Sal Change</th>\n",
              "      <th>10%tile Sal</th>\n",
              "      <th>25%tile Sal</th>\n",
              "      <th>75%tile Sal</th>\n",
              "      <th>90%tileSal</th>\n",
              "    </tr>\n",
              "  </thead>\n",
              "  <tbody>\n",
              "    <tr>\n",
              "      <th>0</th>\n",
              "      <td>Accounting</td>\n",
              "      <td>$46,000.00</td>\n",
              "      <td>$77,100.00</td>\n",
              "      <td>67.6</td>\n",
              "      <td>$42,200.00</td>\n",
              "      <td>$56,100.00</td>\n",
              "      <td>$108,000.00</td>\n",
              "      <td>$152,000.00</td>\n",
              "    </tr>\n",
              "    <tr>\n",
              "      <th>1</th>\n",
              "      <td>Aerospace Engineering</td>\n",
              "      <td>$57,700.00</td>\n",
              "      <td>$101,000.00</td>\n",
              "      <td>75.0</td>\n",
              "      <td>$64,300.00</td>\n",
              "      <td>$82,100.00</td>\n",
              "      <td>$127,000.00</td>\n",
              "      <td>$161,000.00</td>\n",
              "    </tr>\n",
              "    <tr>\n",
              "      <th>2</th>\n",
              "      <td>Agriculture</td>\n",
              "      <td>$42,600.00</td>\n",
              "      <td>$71,900.00</td>\n",
              "      <td>68.8</td>\n",
              "      <td>$36,300.00</td>\n",
              "      <td>$52,100.00</td>\n",
              "      <td>$96,300.00</td>\n",
              "      <td>$150,000.00</td>\n",
              "    </tr>\n",
              "    <tr>\n",
              "      <th>3</th>\n",
              "      <td>Anthropology</td>\n",
              "      <td>$36,800.00</td>\n",
              "      <td>$61,500.00</td>\n",
              "      <td>67.1</td>\n",
              "      <td>$33,800.00</td>\n",
              "      <td>$45,500.00</td>\n",
              "      <td>$89,300.00</td>\n",
              "      <td>$138,000.00</td>\n",
              "    </tr>\n",
              "    <tr>\n",
              "      <th>4</th>\n",
              "      <td>Architecture</td>\n",
              "      <td>$41,600.00</td>\n",
              "      <td>$76,800.00</td>\n",
              "      <td>84.6</td>\n",
              "      <td>$50,600.00</td>\n",
              "      <td>$62,200.00</td>\n",
              "      <td>$97,000.00</td>\n",
              "      <td>$136,000.00</td>\n",
              "    </tr>\n",
              "    <tr>\n",
              "      <th>5</th>\n",
              "      <td>Art History</td>\n",
              "      <td>$35,800.00</td>\n",
              "      <td>$64,900.00</td>\n",
              "      <td>81.3</td>\n",
              "      <td>$28,800.00</td>\n",
              "      <td>$42,200.00</td>\n",
              "      <td>$87,400.00</td>\n",
              "      <td>$125,000.00</td>\n",
              "    </tr>\n",
              "    <tr>\n",
              "      <th>6</th>\n",
              "      <td>Biology</td>\n",
              "      <td>$38,800.00</td>\n",
              "      <td>$64,800.00</td>\n",
              "      <td>67.0</td>\n",
              "      <td>$36,900.00</td>\n",
              "      <td>$47,400.00</td>\n",
              "      <td>$94,500.00</td>\n",
              "      <td>$135,000.00</td>\n",
              "    </tr>\n",
              "    <tr>\n",
              "      <th>7</th>\n",
              "      <td>Business Management</td>\n",
              "      <td>$43,000.00</td>\n",
              "      <td>$72,100.00</td>\n",
              "      <td>67.7</td>\n",
              "      <td>$38,800.00</td>\n",
              "      <td>$51,500.00</td>\n",
              "      <td>$102,000.00</td>\n",
              "      <td>$147,000.00</td>\n",
              "    </tr>\n",
              "    <tr>\n",
              "      <th>8</th>\n",
              "      <td>Chemical Engineering</td>\n",
              "      <td>$63,200.00</td>\n",
              "      <td>$107,000.00</td>\n",
              "      <td>69.3</td>\n",
              "      <td>$71,900.00</td>\n",
              "      <td>$87,300.00</td>\n",
              "      <td>$143,000.00</td>\n",
              "      <td>$194,000.00</td>\n",
              "    </tr>\n",
              "    <tr>\n",
              "      <th>9</th>\n",
              "      <td>Chemistry</td>\n",
              "      <td>$42,600.00</td>\n",
              "      <td>$79,900.00</td>\n",
              "      <td>87.6</td>\n",
              "      <td>$45,300.00</td>\n",
              "      <td>$60,700.00</td>\n",
              "      <td>$108,000.00</td>\n",
              "      <td>$148,000.00</td>\n",
              "    </tr>\n",
              "    <tr>\n",
              "      <th>10</th>\n",
              "      <td>Civil Engineering</td>\n",
              "      <td>$53,900.00</td>\n",
              "      <td>$90,500.00</td>\n",
              "      <td>67.9</td>\n",
              "      <td>$63,400.00</td>\n",
              "      <td>$75,100.00</td>\n",
              "      <td>$115,000.00</td>\n",
              "      <td>$148,000.00</td>\n",
              "    </tr>\n",
              "    <tr>\n",
              "      <th>11</th>\n",
              "      <td>Communications</td>\n",
              "      <td>$38,100.00</td>\n",
              "      <td>$70,000.00</td>\n",
              "      <td>83.7</td>\n",
              "      <td>$37,500.00</td>\n",
              "      <td>$49,700.00</td>\n",
              "      <td>$98,800.00</td>\n",
              "      <td>$143,000.00</td>\n",
              "    </tr>\n",
              "    <tr>\n",
              "      <th>12</th>\n",
              "      <td>Computer Engineering</td>\n",
              "      <td>$61,400.00</td>\n",
              "      <td>$105,000.00</td>\n",
              "      <td>71.0</td>\n",
              "      <td>$66,100.00</td>\n",
              "      <td>$84,100.00</td>\n",
              "      <td>$135,000.00</td>\n",
              "      <td>$162,000.00</td>\n",
              "    </tr>\n",
              "    <tr>\n",
              "      <th>13</th>\n",
              "      <td>Computer Science</td>\n",
              "      <td>$55,900.00</td>\n",
              "      <td>$95,500.00</td>\n",
              "      <td>70.8</td>\n",
              "      <td>$56,000.00</td>\n",
              "      <td>$74,900.00</td>\n",
              "      <td>$122,000.00</td>\n",
              "      <td>$154,000.00</td>\n",
              "    </tr>\n",
              "    <tr>\n",
              "      <th>14</th>\n",
              "      <td>Construction</td>\n",
              "      <td>$53,700.00</td>\n",
              "      <td>$88,900.00</td>\n",
              "      <td>65.5</td>\n",
              "      <td>$56,300.00</td>\n",
              "      <td>$68,100.00</td>\n",
              "      <td>$118,000.00</td>\n",
              "      <td>$171,000.00</td>\n",
              "    </tr>\n",
              "    <tr>\n",
              "      <th>15</th>\n",
              "      <td>Criminal Justice</td>\n",
              "      <td>$35,000.00</td>\n",
              "      <td>$56,300.00</td>\n",
              "      <td>60.9</td>\n",
              "      <td>$32,200.00</td>\n",
              "      <td>$41,600.00</td>\n",
              "      <td>$80,700.00</td>\n",
              "      <td>$107,000.00</td>\n",
              "    </tr>\n",
              "    <tr>\n",
              "      <th>16</th>\n",
              "      <td>Drama</td>\n",
              "      <td>$35,900.00</td>\n",
              "      <td>$56,900.00</td>\n",
              "      <td>58.5</td>\n",
              "      <td>$36,700.00</td>\n",
              "      <td>$41,300.00</td>\n",
              "      <td>$79,100.00</td>\n",
              "      <td>$153,000.00</td>\n",
              "    </tr>\n",
              "    <tr>\n",
              "      <th>17</th>\n",
              "      <td>Economics</td>\n",
              "      <td>$50,100.00</td>\n",
              "      <td>$98,600.00</td>\n",
              "      <td>96.8</td>\n",
              "      <td>$50,600.00</td>\n",
              "      <td>$70,600.00</td>\n",
              "      <td>$145,000.00</td>\n",
              "      <td>$210,000.00</td>\n",
              "    </tr>\n",
              "    <tr>\n",
              "      <th>18</th>\n",
              "      <td>Education</td>\n",
              "      <td>$34,900.00</td>\n",
              "      <td>$52,000.00</td>\n",
              "      <td>49.0</td>\n",
              "      <td>$29,300.00</td>\n",
              "      <td>$37,900.00</td>\n",
              "      <td>$73,400.00</td>\n",
              "      <td>$102,000.00</td>\n",
              "    </tr>\n",
              "    <tr>\n",
              "      <th>19</th>\n",
              "      <td>Electrical Engineering</td>\n",
              "      <td>$60,900.00</td>\n",
              "      <td>$103,000.00</td>\n",
              "      <td>69.1</td>\n",
              "      <td>$69,300.00</td>\n",
              "      <td>$83,800.00</td>\n",
              "      <td>$130,000.00</td>\n",
              "      <td>$168,000.00</td>\n",
              "    </tr>\n",
              "    <tr>\n",
              "      <th>20</th>\n",
              "      <td>English</td>\n",
              "      <td>$38,000.00</td>\n",
              "      <td>$64,700.00</td>\n",
              "      <td>70.3</td>\n",
              "      <td>$33,400.00</td>\n",
              "      <td>$44,800.00</td>\n",
              "      <td>$93,200.00</td>\n",
              "      <td>$133,000.00</td>\n",
              "    </tr>\n",
              "    <tr>\n",
              "      <th>21</th>\n",
              "      <td>Film</td>\n",
              "      <td>$37,900.00</td>\n",
              "      <td>$68,500.00</td>\n",
              "      <td>80.7</td>\n",
              "      <td>$33,900.00</td>\n",
              "      <td>$45,500.00</td>\n",
              "      <td>$100,000.00</td>\n",
              "      <td>$136,000.00</td>\n",
              "    </tr>\n",
              "    <tr>\n",
              "      <th>22</th>\n",
              "      <td>Finance</td>\n",
              "      <td>$47,900.00</td>\n",
              "      <td>$88,300.00</td>\n",
              "      <td>84.3</td>\n",
              "      <td>$47,200.00</td>\n",
              "      <td>$62,100.00</td>\n",
              "      <td>$128,000.00</td>\n",
              "      <td>$195,000.00</td>\n",
              "    </tr>\n",
              "    <tr>\n",
              "      <th>23</th>\n",
              "      <td>Forestry</td>\n",
              "      <td>$39,100.00</td>\n",
              "      <td>$62,600.00</td>\n",
              "      <td>60.1</td>\n",
              "      <td>$41,000.00</td>\n",
              "      <td>$49,300.00</td>\n",
              "      <td>$78,200.00</td>\n",
              "      <td>$111,000.00</td>\n",
              "    </tr>\n",
              "    <tr>\n",
              "      <th>24</th>\n",
              "      <td>Geography</td>\n",
              "      <td>$41,200.00</td>\n",
              "      <td>$65,500.00</td>\n",
              "      <td>59.0</td>\n",
              "      <td>$40,000.00</td>\n",
              "      <td>$50,000.00</td>\n",
              "      <td>$90,800.00</td>\n",
              "      <td>$132,000.00</td>\n",
              "    </tr>\n",
              "    <tr>\n",
              "      <th>25</th>\n",
              "      <td>Geology</td>\n",
              "      <td>$43,500.00</td>\n",
              "      <td>$79,500.00</td>\n",
              "      <td>82.8</td>\n",
              "      <td>$45,000.00</td>\n",
              "      <td>$59,600.00</td>\n",
              "      <td>$101,000.00</td>\n",
              "      <td>$156,000.00</td>\n",
              "    </tr>\n",
              "    <tr>\n",
              "      <th>26</th>\n",
              "      <td>Graphic Design</td>\n",
              "      <td>$35,700.00</td>\n",
              "      <td>$59,800.00</td>\n",
              "      <td>67.5</td>\n",
              "      <td>$36,000.00</td>\n",
              "      <td>$45,500.00</td>\n",
              "      <td>$80,800.00</td>\n",
              "      <td>$112,000.00</td>\n",
              "    </tr>\n",
              "    <tr>\n",
              "      <th>27</th>\n",
              "      <td>Health Care Administration</td>\n",
              "      <td>$38,800.00</td>\n",
              "      <td>$60,600.00</td>\n",
              "      <td>56.2</td>\n",
              "      <td>$34,600.00</td>\n",
              "      <td>$45,600.00</td>\n",
              "      <td>$78,800.00</td>\n",
              "      <td>$101,000.00</td>\n",
              "    </tr>\n",
              "    <tr>\n",
              "      <th>28</th>\n",
              "      <td>History</td>\n",
              "      <td>$39,200.00</td>\n",
              "      <td>$71,000.00</td>\n",
              "      <td>81.1</td>\n",
              "      <td>$37,000.00</td>\n",
              "      <td>$49,200.00</td>\n",
              "      <td>$103,000.00</td>\n",
              "      <td>$149,000.00</td>\n",
              "    </tr>\n",
              "    <tr>\n",
              "      <th>29</th>\n",
              "      <td>Hospitality &amp; Tourism</td>\n",
              "      <td>$37,800.00</td>\n",
              "      <td>$57,500.00</td>\n",
              "      <td>52.1</td>\n",
              "      <td>$35,500.00</td>\n",
              "      <td>$43,600.00</td>\n",
              "      <td>$81,900.00</td>\n",
              "      <td>$124,000.00</td>\n",
              "    </tr>\n",
              "    <tr>\n",
              "      <th>30</th>\n",
              "      <td>Industrial Engineering</td>\n",
              "      <td>$57,700.00</td>\n",
              "      <td>$94,700.00</td>\n",
              "      <td>64.1</td>\n",
              "      <td>$57,100.00</td>\n",
              "      <td>$72,300.00</td>\n",
              "      <td>$132,000.00</td>\n",
              "      <td>$173,000.00</td>\n",
              "    </tr>\n",
              "    <tr>\n",
              "      <th>31</th>\n",
              "      <td>Information Technology (IT)</td>\n",
              "      <td>$49,100.00</td>\n",
              "      <td>$74,800.00</td>\n",
              "      <td>52.3</td>\n",
              "      <td>$44,500.00</td>\n",
              "      <td>$56,700.00</td>\n",
              "      <td>$96,700.00</td>\n",
              "      <td>$129,000.00</td>\n",
              "    </tr>\n",
              "    <tr>\n",
              "      <th>32</th>\n",
              "      <td>Interior Design</td>\n",
              "      <td>$36,100.00</td>\n",
              "      <td>$53,200.00</td>\n",
              "      <td>47.4</td>\n",
              "      <td>$35,700.00</td>\n",
              "      <td>$42,600.00</td>\n",
              "      <td>$72,500.00</td>\n",
              "      <td>$107,000.00</td>\n",
              "    </tr>\n",
              "    <tr>\n",
              "      <th>33</th>\n",
              "      <td>International Relations</td>\n",
              "      <td>$40,900.00</td>\n",
              "      <td>$80,900.00</td>\n",
              "      <td>97.8</td>\n",
              "      <td>$38,200.00</td>\n",
              "      <td>$56,000.00</td>\n",
              "      <td>$111,000.00</td>\n",
              "      <td>$157,000.00</td>\n",
              "    </tr>\n",
              "    <tr>\n",
              "      <th>34</th>\n",
              "      <td>Journalism</td>\n",
              "      <td>$35,600.00</td>\n",
              "      <td>$66,700.00</td>\n",
              "      <td>87.4</td>\n",
              "      <td>$38,400.00</td>\n",
              "      <td>$48,300.00</td>\n",
              "      <td>$97,700.00</td>\n",
              "      <td>$145,000.00</td>\n",
              "    </tr>\n",
              "    <tr>\n",
              "      <th>35</th>\n",
              "      <td>Management Information Systems (MIS)</td>\n",
              "      <td>$49,200.00</td>\n",
              "      <td>$82,300.00</td>\n",
              "      <td>67.3</td>\n",
              "      <td>$45,300.00</td>\n",
              "      <td>$60,500.00</td>\n",
              "      <td>$108,000.00</td>\n",
              "      <td>$146,000.00</td>\n",
              "    </tr>\n",
              "    <tr>\n",
              "      <th>36</th>\n",
              "      <td>Marketing</td>\n",
              "      <td>$40,800.00</td>\n",
              "      <td>$79,600.00</td>\n",
              "      <td>95.1</td>\n",
              "      <td>$42,100.00</td>\n",
              "      <td>$55,600.00</td>\n",
              "      <td>$119,000.00</td>\n",
              "      <td>$175,000.00</td>\n",
              "    </tr>\n",
              "    <tr>\n",
              "      <th>37</th>\n",
              "      <td>Math</td>\n",
              "      <td>$45,400.00</td>\n",
              "      <td>$92,400.00</td>\n",
              "      <td>103.5</td>\n",
              "      <td>$45,200.00</td>\n",
              "      <td>$64,200.00</td>\n",
              "      <td>$128,000.00</td>\n",
              "      <td>$183,000.00</td>\n",
              "    </tr>\n",
              "    <tr>\n",
              "      <th>38</th>\n",
              "      <td>Mechanical Engineering</td>\n",
              "      <td>$57,900.00</td>\n",
              "      <td>$93,600.00</td>\n",
              "      <td>61.7</td>\n",
              "      <td>$63,700.00</td>\n",
              "      <td>$76,200.00</td>\n",
              "      <td>$120,000.00</td>\n",
              "      <td>$163,000.00</td>\n",
              "    </tr>\n",
              "    <tr>\n",
              "      <th>39</th>\n",
              "      <td>Music</td>\n",
              "      <td>$35,900.00</td>\n",
              "      <td>$55,000.00</td>\n",
              "      <td>53.2</td>\n",
              "      <td>$26,700.00</td>\n",
              "      <td>$40,200.00</td>\n",
              "      <td>$88,000.00</td>\n",
              "      <td>$134,000.00</td>\n",
              "    </tr>\n",
              "    <tr>\n",
              "      <th>40</th>\n",
              "      <td>Nursing</td>\n",
              "      <td>$54,200.00</td>\n",
              "      <td>$67,000.00</td>\n",
              "      <td>23.6</td>\n",
              "      <td>$47,600.00</td>\n",
              "      <td>$56,400.00</td>\n",
              "      <td>$80,900.00</td>\n",
              "      <td>$98,300.00</td>\n",
              "    </tr>\n",
              "    <tr>\n",
              "      <th>41</th>\n",
              "      <td>Nutrition</td>\n",
              "      <td>$39,900.00</td>\n",
              "      <td>$55,300.00</td>\n",
              "      <td>38.6</td>\n",
              "      <td>$33,900.00</td>\n",
              "      <td>$44,500.00</td>\n",
              "      <td>$70,500.00</td>\n",
              "      <td>$99,200.00</td>\n",
              "    </tr>\n",
              "    <tr>\n",
              "      <th>42</th>\n",
              "      <td>Philosophy</td>\n",
              "      <td>$39,900.00</td>\n",
              "      <td>$81,200.00</td>\n",
              "      <td>103.5</td>\n",
              "      <td>$35,500.00</td>\n",
              "      <td>$52,800.00</td>\n",
              "      <td>$127,000.00</td>\n",
              "      <td>$168,000.00</td>\n",
              "    </tr>\n",
              "    <tr>\n",
              "      <th>43</th>\n",
              "      <td>Physician Assistant</td>\n",
              "      <td>$74,300.00</td>\n",
              "      <td>$91,700.00</td>\n",
              "      <td>23.4</td>\n",
              "      <td>$66,400.00</td>\n",
              "      <td>$75,200.00</td>\n",
              "      <td>$108,000.00</td>\n",
              "      <td>$124,000.00</td>\n",
              "    </tr>\n",
              "    <tr>\n",
              "      <th>44</th>\n",
              "      <td>Physics</td>\n",
              "      <td>$50,300.00</td>\n",
              "      <td>$97,300.00</td>\n",
              "      <td>93.4</td>\n",
              "      <td>$56,000.00</td>\n",
              "      <td>$74,200.00</td>\n",
              "      <td>$132,000.00</td>\n",
              "      <td>$178,000.00</td>\n",
              "    </tr>\n",
              "    <tr>\n",
              "      <th>45</th>\n",
              "      <td>Political Science</td>\n",
              "      <td>$40,800.00</td>\n",
              "      <td>$78,200.00</td>\n",
              "      <td>91.7</td>\n",
              "      <td>$41,200.00</td>\n",
              "      <td>$55,300.00</td>\n",
              "      <td>$114,000.00</td>\n",
              "      <td>$168,000.00</td>\n",
              "    </tr>\n",
              "    <tr>\n",
              "      <th>46</th>\n",
              "      <td>Psychology</td>\n",
              "      <td>$35,900.00</td>\n",
              "      <td>$60,400.00</td>\n",
              "      <td>68.2</td>\n",
              "      <td>$31,600.00</td>\n",
              "      <td>$42,100.00</td>\n",
              "      <td>$87,500.00</td>\n",
              "      <td>$127,000.00</td>\n",
              "    </tr>\n",
              "    <tr>\n",
              "      <th>47</th>\n",
              "      <td>Religion</td>\n",
              "      <td>$34,100.00</td>\n",
              "      <td>$52,000.00</td>\n",
              "      <td>52.5</td>\n",
              "      <td>$29,700.00</td>\n",
              "      <td>$36,500.00</td>\n",
              "      <td>$70,900.00</td>\n",
              "      <td>$96,400.00</td>\n",
              "    </tr>\n",
              "    <tr>\n",
              "      <th>48</th>\n",
              "      <td>Sociology</td>\n",
              "      <td>$36,500.00</td>\n",
              "      <td>$58,200.00</td>\n",
              "      <td>59.5</td>\n",
              "      <td>$30,700.00</td>\n",
              "      <td>$40,400.00</td>\n",
              "      <td>$81,200.00</td>\n",
              "      <td>$118,000.00</td>\n",
              "    </tr>\n",
              "    <tr>\n",
              "      <th>49</th>\n",
              "      <td>Spanish</td>\n",
              "      <td>$34,000.00</td>\n",
              "      <td>$53,100.00</td>\n",
              "      <td>56.2</td>\n",
              "      <td>$31,000.00</td>\n",
              "      <td>$40,000.00</td>\n",
              "      <td>$76,800.00</td>\n",
              "      <td>$96,400.00</td>\n",
              "    </tr>\n",
              "  </tbody>\n",
              "</table>\n",
              "</div>"
            ],
            "text/plain": [
              "                                   major  ...   90%tileSal\n",
              "0                             Accounting  ...  $152,000.00\n",
              "1                  Aerospace Engineering  ...  $161,000.00\n",
              "2                            Agriculture  ...  $150,000.00\n",
              "3                           Anthropology  ...  $138,000.00\n",
              "4                           Architecture  ...  $136,000.00\n",
              "5                            Art History  ...  $125,000.00\n",
              "6                                Biology  ...  $135,000.00\n",
              "7                    Business Management  ...  $147,000.00\n",
              "8                   Chemical Engineering  ...  $194,000.00\n",
              "9                              Chemistry  ...  $148,000.00\n",
              "10                     Civil Engineering  ...  $148,000.00\n",
              "11                        Communications  ...  $143,000.00\n",
              "12                  Computer Engineering  ...  $162,000.00\n",
              "13                      Computer Science  ...  $154,000.00\n",
              "14                          Construction  ...  $171,000.00\n",
              "15                      Criminal Justice  ...  $107,000.00\n",
              "16                                 Drama  ...  $153,000.00\n",
              "17                             Economics  ...  $210,000.00\n",
              "18                             Education  ...  $102,000.00\n",
              "19                Electrical Engineering  ...  $168,000.00\n",
              "20                               English  ...  $133,000.00\n",
              "21                                  Film  ...  $136,000.00\n",
              "22                               Finance  ...  $195,000.00\n",
              "23                              Forestry  ...  $111,000.00\n",
              "24                             Geography  ...  $132,000.00\n",
              "25                               Geology  ...  $156,000.00\n",
              "26                        Graphic Design  ...  $112,000.00\n",
              "27            Health Care Administration  ...  $101,000.00\n",
              "28                               History  ...  $149,000.00\n",
              "29                 Hospitality & Tourism  ...  $124,000.00\n",
              "30                Industrial Engineering  ...  $173,000.00\n",
              "31           Information Technology (IT)  ...  $129,000.00\n",
              "32                       Interior Design  ...  $107,000.00\n",
              "33               International Relations  ...  $157,000.00\n",
              "34                            Journalism  ...  $145,000.00\n",
              "35  Management Information Systems (MIS)  ...  $146,000.00\n",
              "36                             Marketing  ...  $175,000.00\n",
              "37                                  Math  ...  $183,000.00\n",
              "38                Mechanical Engineering  ...  $163,000.00\n",
              "39                                 Music  ...  $134,000.00\n",
              "40                               Nursing  ...   $98,300.00\n",
              "41                             Nutrition  ...   $99,200.00\n",
              "42                            Philosophy  ...  $168,000.00\n",
              "43                   Physician Assistant  ...  $124,000.00\n",
              "44                               Physics  ...  $178,000.00\n",
              "45                     Political Science  ...  $168,000.00\n",
              "46                            Psychology  ...  $127,000.00\n",
              "47                              Religion  ...   $96,400.00\n",
              "48                             Sociology  ...  $118,000.00\n",
              "49                               Spanish  ...   $96,400.00\n",
              "\n",
              "[50 rows x 8 columns]"
            ]
          },
          "metadata": {
            "tags": []
          },
          "execution_count": 245
        }
      ]
    },
    {
      "cell_type": "markdown",
      "metadata": {
        "id": "owEvjG9BdSJs",
        "colab_type": "text"
      },
      "source": [
        "5.Display the datatypes of all columns"
      ]
    },
    {
      "cell_type": "code",
      "metadata": {
        "id": "c6le_sPlcahG",
        "colab_type": "code",
        "colab": {
          "base_uri": "https://localhost:8080/",
          "height": 168
        },
        "outputId": "d3b804d1-5f7d-403b-e8b6-7c63f786259e"
      },
      "source": [
        "df.dtypes"
      ],
      "execution_count": 246,
      "outputs": [
        {
          "output_type": "execute_result",
          "data": {
            "text/plain": [
              "major                           object\n",
              "Start Med Sal                   object\n",
              "Mid Career Med Sal              object\n",
              "Start-Mid Career Sal Change    float64\n",
              "10%tile Sal                     object\n",
              "25%tile Sal                     object\n",
              "75%tile Sal                     object\n",
              "90%tileSal                      object\n",
              "dtype: object"
            ]
          },
          "metadata": {
            "tags": []
          },
          "execution_count": 246
        }
      ]
    },
    {
      "cell_type": "markdown",
      "metadata": {
        "id": "3gxna_CTlsRZ",
        "colab_type": "text"
      },
      "source": [
        "6.Except under graduate major convert all columns to float data type"
      ]
    },
    {
      "cell_type": "code",
      "metadata": {
        "id": "-gyp5ffsg0II",
        "colab_type": "code",
        "colab": {}
      },
      "source": [
        "def converter(sal):\n",
        "  s1=sal.split(\"$\")\n",
        "  s2=s1[1]\n",
        "  s3=s2.split(\",\")\n",
        "  s=\"\".join(s3)\n",
        "  s=float(s)\n",
        "  return s"
      ],
      "execution_count": 247,
      "outputs": []
    },
    {
      "cell_type": "code",
      "metadata": {
        "id": "CWs_-Z_YikQF",
        "colab_type": "code",
        "colab": {}
      },
      "source": [
        "df[\"Start Med Sal\"]=df[\"Start Med Sal\"].apply(converter)"
      ],
      "execution_count": 248,
      "outputs": []
    },
    {
      "cell_type": "code",
      "metadata": {
        "id": "gxg7kJHVkAmv",
        "colab_type": "code",
        "colab": {}
      },
      "source": [
        "df[\"Mid Career Med Sal\"]=df[\"Mid Career Med Sal\"].apply(converter)"
      ],
      "execution_count": 249,
      "outputs": []
    },
    {
      "cell_type": "code",
      "metadata": {
        "id": "qBUMGuuHkXAY",
        "colab_type": "code",
        "colab": {}
      },
      "source": [
        "df[\"10%tile Sal\"]=df[\"10%tile Sal\"].apply(converter)"
      ],
      "execution_count": 250,
      "outputs": []
    },
    {
      "cell_type": "code",
      "metadata": {
        "id": "p-tt0crVk7MQ",
        "colab_type": "code",
        "colab": {}
      },
      "source": [
        "df[\"25%tile Sal\"]=df[\"25%tile Sal\"].apply(converter)"
      ],
      "execution_count": 251,
      "outputs": []
    },
    {
      "cell_type": "code",
      "metadata": {
        "id": "V1ZdlP8DlAwm",
        "colab_type": "code",
        "colab": {}
      },
      "source": [
        "df[\"75%tile Sal\"]=df[\"75%tile Sal\"].apply(converter)"
      ],
      "execution_count": 252,
      "outputs": []
    },
    {
      "cell_type": "code",
      "metadata": {
        "id": "iCfkitKTlTEU",
        "colab_type": "code",
        "colab": {}
      },
      "source": [
        "df[\"90%tileSal\"]=df[\"90%tileSal\"].apply(converter)"
      ],
      "execution_count": 253,
      "outputs": []
    },
    {
      "cell_type": "code",
      "metadata": {
        "id": "Muap78PDlWon",
        "colab_type": "code",
        "colab": {
          "base_uri": "https://localhost:8080/",
          "height": 168
        },
        "outputId": "f2407f6d-1ba5-48b6-9952-bafe2a116e39"
      },
      "source": [
        "df.dtypes\n"
      ],
      "execution_count": 254,
      "outputs": [
        {
          "output_type": "execute_result",
          "data": {
            "text/plain": [
              "major                           object\n",
              "Start Med Sal                  float64\n",
              "Mid Career Med Sal             float64\n",
              "Start-Mid Career Sal Change    float64\n",
              "10%tile Sal                    float64\n",
              "25%tile Sal                    float64\n",
              "75%tile Sal                    float64\n",
              "90%tileSal                     float64\n",
              "dtype: object"
            ]
          },
          "metadata": {
            "tags": []
          },
          "execution_count": 254
        }
      ]
    },
    {
      "cell_type": "markdown",
      "metadata": {
        "id": "Q7ZgwCazsidS",
        "colab_type": "text"
      },
      "source": [
        "7.Display all majors where the Start-Mid Career Sal Change is greater than 70"
      ]
    },
    {
      "cell_type": "code",
      "metadata": {
        "id": "U9N7Brdqliom",
        "colab_type": "code",
        "colab": {}
      },
      "source": [
        "df1=df.loc[(df[\"Start-Mid Career Sal Change\"]>70)]"
      ],
      "execution_count": 255,
      "outputs": []
    },
    {
      "cell_type": "code",
      "metadata": {
        "id": "f2siVFV0phXF",
        "colab_type": "code",
        "colab": {
          "base_uri": "https://localhost:8080/",
          "height": 370
        },
        "outputId": "e6e7d1a3-af56-460f-9f14-64e34ebe85b2"
      },
      "source": [
        "df1[\"major\"]"
      ],
      "execution_count": 256,
      "outputs": [
        {
          "output_type": "execute_result",
          "data": {
            "text/plain": [
              "1       Aerospace Engineering\n",
              "4                Architecture\n",
              "5                 Art History\n",
              "9                   Chemistry\n",
              "11             Communications\n",
              "12       Computer Engineering\n",
              "13           Computer Science\n",
              "17                  Economics\n",
              "20                    English\n",
              "21                       Film\n",
              "22                    Finance\n",
              "25                    Geology\n",
              "28                    History\n",
              "33    International Relations\n",
              "34                 Journalism\n",
              "36                  Marketing\n",
              "37                       Math\n",
              "42                 Philosophy\n",
              "44                    Physics\n",
              "45          Political Science\n",
              "Name: major, dtype: object"
            ]
          },
          "metadata": {
            "tags": []
          },
          "execution_count": 256
        }
      ]
    },
    {
      "cell_type": "markdown",
      "metadata": {
        "id": "594tzJo5vYMm",
        "colab_type": "text"
      },
      "source": [
        "8.Display the Minimum  start med salary where the difference between 90%tileSal and  '10%tile Sal' is greater than 40,000."
      ]
    },
    {
      "cell_type": "code",
      "metadata": {
        "id": "rJgiqq8lsVqm",
        "colab_type": "code",
        "colab": {
          "base_uri": "https://localhost:8080/",
          "height": 34
        },
        "outputId": "7da9ab48-e85b-49a2-d707-8ef8e8200e05"
      },
      "source": [
        "df2=df.loc[((df[\"90%tileSal\"] - df[\"10%tile Sal\"])>40000)]\n",
        "min(df2[\"Start Med Sal\"])"
      ],
      "execution_count": 257,
      "outputs": [
        {
          "output_type": "execute_result",
          "data": {
            "text/plain": [
              "34000.0"
            ]
          },
          "metadata": {
            "tags": []
          },
          "execution_count": 257
        }
      ]
    },
    {
      "cell_type": "markdown",
      "metadata": {
        "id": "IevrTZgLyZZp",
        "colab_type": "text"
      },
      "source": [
        "# Dataset 2"
      ]
    },
    {
      "cell_type": "markdown",
      "metadata": {
        "id": "0zUQV6hy9iLg",
        "colab_type": "text"
      },
      "source": [
        "1.Import salary by college type"
      ]
    },
    {
      "cell_type": "code",
      "metadata": {
        "id": "rt6O6yLQuj8W",
        "colab_type": "code",
        "colab": {
          "base_uri": "https://localhost:8080/",
          "height": 486
        },
        "outputId": "8de2932e-c6ce-4c1c-c6e1-603d4a4b9897"
      },
      "source": [
        "df=pd.read_csv(\"/content/drive/My Drive/Colab Notebooks/datasets_1189_2137_salaries-by-college-type.csv\")\n",
        "df\n"
      ],
      "execution_count": 258,
      "outputs": [
        {
          "output_type": "execute_result",
          "data": {
            "text/html": [
              "<div>\n",
              "<style scoped>\n",
              "    .dataframe tbody tr th:only-of-type {\n",
              "        vertical-align: middle;\n",
              "    }\n",
              "\n",
              "    .dataframe tbody tr th {\n",
              "        vertical-align: top;\n",
              "    }\n",
              "\n",
              "    .dataframe thead th {\n",
              "        text-align: right;\n",
              "    }\n",
              "</style>\n",
              "<table border=\"1\" class=\"dataframe\">\n",
              "  <thead>\n",
              "    <tr style=\"text-align: right;\">\n",
              "      <th></th>\n",
              "      <th>School Name</th>\n",
              "      <th>School Type</th>\n",
              "      <th>Starting Median Salary</th>\n",
              "      <th>Mid-Career Median Salary</th>\n",
              "      <th>Mid-Career 10th Percentile Salary</th>\n",
              "      <th>Mid-Career 25th Percentile Salary</th>\n",
              "      <th>Mid-Career 75th Percentile Salary</th>\n",
              "      <th>Mid-Career 90th Percentile Salary</th>\n",
              "    </tr>\n",
              "  </thead>\n",
              "  <tbody>\n",
              "    <tr>\n",
              "      <th>0</th>\n",
              "      <td>Massachusetts Institute of Technology (MIT)</td>\n",
              "      <td>Engineering</td>\n",
              "      <td>$72,200.00</td>\n",
              "      <td>$126,000.00</td>\n",
              "      <td>$76,800.00</td>\n",
              "      <td>$99,200.00</td>\n",
              "      <td>$168,000.00</td>\n",
              "      <td>$220,000.00</td>\n",
              "    </tr>\n",
              "    <tr>\n",
              "      <th>1</th>\n",
              "      <td>California Institute of Technology (CIT)</td>\n",
              "      <td>Engineering</td>\n",
              "      <td>$75,500.00</td>\n",
              "      <td>$123,000.00</td>\n",
              "      <td>NaN</td>\n",
              "      <td>$104,000.00</td>\n",
              "      <td>$161,000.00</td>\n",
              "      <td>NaN</td>\n",
              "    </tr>\n",
              "    <tr>\n",
              "      <th>2</th>\n",
              "      <td>Harvey Mudd College</td>\n",
              "      <td>Engineering</td>\n",
              "      <td>$71,800.00</td>\n",
              "      <td>$122,000.00</td>\n",
              "      <td>NaN</td>\n",
              "      <td>$96,000.00</td>\n",
              "      <td>$180,000.00</td>\n",
              "      <td>NaN</td>\n",
              "    </tr>\n",
              "    <tr>\n",
              "      <th>3</th>\n",
              "      <td>Polytechnic University of New York, Brooklyn</td>\n",
              "      <td>Engineering</td>\n",
              "      <td>$62,400.00</td>\n",
              "      <td>$114,000.00</td>\n",
              "      <td>$66,800.00</td>\n",
              "      <td>$94,300.00</td>\n",
              "      <td>$143,000.00</td>\n",
              "      <td>$190,000.00</td>\n",
              "    </tr>\n",
              "    <tr>\n",
              "      <th>4</th>\n",
              "      <td>Cooper Union</td>\n",
              "      <td>Engineering</td>\n",
              "      <td>$62,200.00</td>\n",
              "      <td>$114,000.00</td>\n",
              "      <td>NaN</td>\n",
              "      <td>$80,200.00</td>\n",
              "      <td>$142,000.00</td>\n",
              "      <td>NaN</td>\n",
              "    </tr>\n",
              "    <tr>\n",
              "      <th>...</th>\n",
              "      <td>...</td>\n",
              "      <td>...</td>\n",
              "      <td>...</td>\n",
              "      <td>...</td>\n",
              "      <td>...</td>\n",
              "      <td>...</td>\n",
              "      <td>...</td>\n",
              "      <td>...</td>\n",
              "    </tr>\n",
              "    <tr>\n",
              "      <th>264</th>\n",
              "      <td>Austin Peay State University</td>\n",
              "      <td>State</td>\n",
              "      <td>$37,700.00</td>\n",
              "      <td>$59,200.00</td>\n",
              "      <td>$32,200.00</td>\n",
              "      <td>$40,500.00</td>\n",
              "      <td>$73,900.00</td>\n",
              "      <td>$96,200.00</td>\n",
              "    </tr>\n",
              "    <tr>\n",
              "      <th>265</th>\n",
              "      <td>Pittsburg State University</td>\n",
              "      <td>State</td>\n",
              "      <td>$40,400.00</td>\n",
              "      <td>$58,200.00</td>\n",
              "      <td>$25,600.00</td>\n",
              "      <td>$46,000.00</td>\n",
              "      <td>$84,600.00</td>\n",
              "      <td>$117,000.00</td>\n",
              "    </tr>\n",
              "    <tr>\n",
              "      <th>266</th>\n",
              "      <td>Southern Utah University</td>\n",
              "      <td>State</td>\n",
              "      <td>$41,900.00</td>\n",
              "      <td>$56,500.00</td>\n",
              "      <td>$30,700.00</td>\n",
              "      <td>$39,700.00</td>\n",
              "      <td>$78,400.00</td>\n",
              "      <td>$116,000.00</td>\n",
              "    </tr>\n",
              "    <tr>\n",
              "      <th>267</th>\n",
              "      <td>Montana State University - Billings</td>\n",
              "      <td>State</td>\n",
              "      <td>$37,900.00</td>\n",
              "      <td>$50,600.00</td>\n",
              "      <td>$22,600.00</td>\n",
              "      <td>$31,800.00</td>\n",
              "      <td>$78,500.00</td>\n",
              "      <td>$98,900.00</td>\n",
              "    </tr>\n",
              "    <tr>\n",
              "      <th>268</th>\n",
              "      <td>Black Hills State University</td>\n",
              "      <td>State</td>\n",
              "      <td>$35,300.00</td>\n",
              "      <td>$43,900.00</td>\n",
              "      <td>$27,000.00</td>\n",
              "      <td>$32,200.00</td>\n",
              "      <td>$60,900.00</td>\n",
              "      <td>$87,600.00</td>\n",
              "    </tr>\n",
              "  </tbody>\n",
              "</table>\n",
              "<p>269 rows × 8 columns</p>\n",
              "</div>"
            ],
            "text/plain": [
              "                                      School Name  ... Mid-Career 90th Percentile Salary\n",
              "0     Massachusetts Institute of Technology (MIT)  ...                       $220,000.00\n",
              "1        California Institute of Technology (CIT)  ...                               NaN\n",
              "2                             Harvey Mudd College  ...                               NaN\n",
              "3    Polytechnic University of New York, Brooklyn  ...                       $190,000.00\n",
              "4                                    Cooper Union  ...                               NaN\n",
              "..                                            ...  ...                               ...\n",
              "264                  Austin Peay State University  ...                        $96,200.00\n",
              "265                    Pittsburg State University  ...                       $117,000.00\n",
              "266                      Southern Utah University  ...                       $116,000.00\n",
              "267           Montana State University - Billings  ...                        $98,900.00\n",
              "268                  Black Hills State University  ...                        $87,600.00\n",
              "\n",
              "[269 rows x 8 columns]"
            ]
          },
          "metadata": {
            "tags": []
          },
          "execution_count": 258
        }
      ]
    },
    {
      "cell_type": "markdown",
      "metadata": {
        "id": "ZLpBLAzO9aKz",
        "colab_type": "text"
      },
      "source": [
        "2.Change salary columns to float\n",
        "3.Fill na values\n",
        "\n",
        "\n"
      ]
    },
    {
      "cell_type": "code",
      "metadata": {
        "id": "38-zwA248Yll",
        "colab_type": "code",
        "colab": {}
      },
      "source": [
        "def converter(sal):\n",
        "  s1=sal.split(\"$\")\n",
        "  s2=s1[1]\n",
        "  s3=s2.split(\",\")\n",
        "  s=\"\".join(s3)\n",
        "  s=float(s)\n",
        "  return s"
      ],
      "execution_count": 259,
      "outputs": []
    },
    {
      "cell_type": "code",
      "metadata": {
        "id": "05--oXiU0T81",
        "colab_type": "code",
        "colab": {
          "base_uri": "https://localhost:8080/",
          "height": 168
        },
        "outputId": "222c3c80-1bd9-40fa-ca85-d1833913648a"
      },
      "source": [
        "df.dtypes"
      ],
      "execution_count": 260,
      "outputs": [
        {
          "output_type": "execute_result",
          "data": {
            "text/plain": [
              "School Name                          object\n",
              "School Type                          object\n",
              "Starting Median Salary               object\n",
              "Mid-Career Median Salary             object\n",
              "Mid-Career 10th Percentile Salary    object\n",
              "Mid-Career 25th Percentile Salary    object\n",
              "Mid-Career 75th Percentile Salary    object\n",
              "Mid-Career 90th Percentile Salary    object\n",
              "dtype: object"
            ]
          },
          "metadata": {
            "tags": []
          },
          "execution_count": 260
        }
      ]
    },
    {
      "cell_type": "code",
      "metadata": {
        "id": "ZnGWnnOk0jxY",
        "colab_type": "code",
        "colab": {
          "base_uri": "https://localhost:8080/",
          "height": 168
        },
        "outputId": "cb5c22a2-6cb0-4ba0-e443-2c4ef6326fe1"
      },
      "source": [
        "df.isnull().any()"
      ],
      "execution_count": 261,
      "outputs": [
        {
          "output_type": "execute_result",
          "data": {
            "text/plain": [
              "School Name                          False\n",
              "School Type                          False\n",
              "Starting Median Salary               False\n",
              "Mid-Career Median Salary             False\n",
              "Mid-Career 10th Percentile Salary     True\n",
              "Mid-Career 25th Percentile Salary    False\n",
              "Mid-Career 75th Percentile Salary    False\n",
              "Mid-Career 90th Percentile Salary     True\n",
              "dtype: bool"
            ]
          },
          "metadata": {
            "tags": []
          },
          "execution_count": 261
        }
      ]
    },
    {
      "cell_type": "code",
      "metadata": {
        "id": "aMRQANBC8Wrj",
        "colab_type": "code",
        "colab": {}
      },
      "source": [
        "df[\"Mid-Career 10th Percentile Salary\"].fillna(df[\"Starting Median Salary\"],inplace=True)"
      ],
      "execution_count": 262,
      "outputs": []
    },
    {
      "cell_type": "code",
      "metadata": {
        "id": "nsUk2NvX8lFo",
        "colab_type": "code",
        "colab": {}
      },
      "source": [
        "df[\"Mid-Career 90th Percentile Salary\"].fillna(df[\"Mid-Career 75th Percentile Salary\"],inplace=True)"
      ],
      "execution_count": 263,
      "outputs": []
    },
    {
      "cell_type": "code",
      "metadata": {
        "id": "3LXvEulCzVBq",
        "colab_type": "code",
        "colab": {}
      },
      "source": [
        "df[\"Starting Median Salary\"]=df[\"Starting Median Salary\"].apply(converter)\n"
      ],
      "execution_count": 264,
      "outputs": []
    },
    {
      "cell_type": "code",
      "metadata": {
        "id": "RlTdz5TX0GnW",
        "colab_type": "code",
        "colab": {}
      },
      "source": [
        "df[\"Mid-Career Median Salary\"]=df[\"Mid-Career Median Salary\"].apply(converter)\n"
      ],
      "execution_count": 265,
      "outputs": []
    },
    {
      "cell_type": "code",
      "metadata": {
        "id": "6-WY6o_f55eE",
        "colab_type": "code",
        "colab": {}
      },
      "source": [
        "df[\"Mid-Career 10th Percentile Salary\"]=df[\"Mid-Career 10th Percentile Salary\"].apply(converter)"
      ],
      "execution_count": 266,
      "outputs": []
    },
    {
      "cell_type": "code",
      "metadata": {
        "id": "4sIp7Vbv88h_",
        "colab_type": "code",
        "colab": {}
      },
      "source": [
        "df[\"Mid-Career 25th Percentile Salary\"]=df[\"Mid-Career 25th Percentile Salary\"].apply(converter)"
      ],
      "execution_count": 267,
      "outputs": []
    },
    {
      "cell_type": "code",
      "metadata": {
        "id": "OIND8isq9H9x",
        "colab_type": "code",
        "colab": {}
      },
      "source": [
        "df[\"Mid-Career 75th Percentile Salary\"]=df[\"Mid-Career 75th Percentile Salary\"].apply(converter)"
      ],
      "execution_count": 268,
      "outputs": []
    },
    {
      "cell_type": "code",
      "metadata": {
        "id": "ZwRxMrIz9L-F",
        "colab_type": "code",
        "colab": {}
      },
      "source": [
        "df[\"Mid-Career 90th Percentile Salary\"]=df[\"Mid-Career 90th Percentile Salary\"].apply(converter)"
      ],
      "execution_count": 269,
      "outputs": []
    },
    {
      "cell_type": "code",
      "metadata": {
        "id": "RFYaoVMC9SFg",
        "colab_type": "code",
        "colab": {
          "base_uri": "https://localhost:8080/",
          "height": 168
        },
        "outputId": "1b03b92b-0ee2-4e6f-8f6d-0db1faa3d1f2"
      },
      "source": [
        "df.dtypes"
      ],
      "execution_count": 270,
      "outputs": [
        {
          "output_type": "execute_result",
          "data": {
            "text/plain": [
              "School Name                           object\n",
              "School Type                           object\n",
              "Starting Median Salary               float64\n",
              "Mid-Career Median Salary             float64\n",
              "Mid-Career 10th Percentile Salary    float64\n",
              "Mid-Career 25th Percentile Salary    float64\n",
              "Mid-Career 75th Percentile Salary    float64\n",
              "Mid-Career 90th Percentile Salary    float64\n",
              "dtype: object"
            ]
          },
          "metadata": {
            "tags": []
          },
          "execution_count": 270
        }
      ]
    },
    {
      "cell_type": "markdown",
      "metadata": {
        "id": "QSR5-twX-6R5",
        "colab_type": "text"
      },
      "source": [
        "4.Average starting median salary of Liberal arts"
      ]
    },
    {
      "cell_type": "code",
      "metadata": {
        "id": "iWCCgxI09Xp-",
        "colab_type": "code",
        "colab": {
          "base_uri": "https://localhost:8080/",
          "height": 34
        },
        "outputId": "8fb1eadf-bf5b-4bae-c297-208c59f56f3e"
      },
      "source": [
        "gp=df.groupby(\"School Type\")\n",
        "gp"
      ],
      "execution_count": 271,
      "outputs": [
        {
          "output_type": "execute_result",
          "data": {
            "text/plain": [
              "<pandas.core.groupby.generic.DataFrameGroupBy object at 0x7fccfe4d27b8>"
            ]
          },
          "metadata": {
            "tags": []
          },
          "execution_count": 271
        }
      ]
    },
    {
      "cell_type": "code",
      "metadata": {
        "id": "4nwm2IAm-KUW",
        "colab_type": "code",
        "colab": {
          "base_uri": "https://localhost:8080/",
          "height": 134
        },
        "outputId": "5c2a0ba4-7a63-4949-a51a-e7bc970c1db2"
      },
      "source": [
        "gp.get_group(\"Liberal Arts\").mean()"
      ],
      "execution_count": 272,
      "outputs": [
        {
          "output_type": "execute_result",
          "data": {
            "text/plain": [
              "Starting Median Salary                45746.808511\n",
              "Mid-Career Median Salary              89378.723404\n",
              "Mid-Career 10th Percentile Salary     46136.170213\n",
              "Mid-Career 25th Percentile Salary     61936.170213\n",
              "Mid-Career 75th Percentile Salary    131076.595745\n",
              "Mid-Career 90th Percentile Salary    149936.170213\n",
              "dtype: float64"
            ]
          },
          "metadata": {
            "tags": []
          },
          "execution_count": 272
        }
      ]
    },
    {
      "cell_type": "markdown",
      "metadata": {
        "id": "VSPH1SKVAvd9",
        "colab_type": "text"
      },
      "source": [
        "5.Which college is giving highest  Mid-Career 25th Percentile Salary for engineering\n",
        "6.Display the highest and lowest two salaries of party and ivy league\n",
        "7.Which major is giving highest starting median salary\n"
      ]
    },
    {
      "cell_type": "code",
      "metadata": {
        "id": "gog9cDw1-Q-s",
        "colab_type": "code",
        "colab": {}
      },
      "source": [
        "df1=gp.max()\n",
        "df2=gp.min()"
      ],
      "execution_count": 273,
      "outputs": []
    },
    {
      "cell_type": "code",
      "metadata": {
        "id": "dQ2vt9O8AXiT",
        "colab_type": "code",
        "colab": {
          "base_uri": "https://localhost:8080/",
          "height": 309
        },
        "outputId": "5d200316-639a-41e4-8313-f116d68c52ed"
      },
      "source": [
        "df1"
      ],
      "execution_count": 274,
      "outputs": [
        {
          "output_type": "execute_result",
          "data": {
            "text/html": [
              "<div>\n",
              "<style scoped>\n",
              "    .dataframe tbody tr th:only-of-type {\n",
              "        vertical-align: middle;\n",
              "    }\n",
              "\n",
              "    .dataframe tbody tr th {\n",
              "        vertical-align: top;\n",
              "    }\n",
              "\n",
              "    .dataframe thead th {\n",
              "        text-align: right;\n",
              "    }\n",
              "</style>\n",
              "<table border=\"1\" class=\"dataframe\">\n",
              "  <thead>\n",
              "    <tr style=\"text-align: right;\">\n",
              "      <th></th>\n",
              "      <th>School Name</th>\n",
              "      <th>Starting Median Salary</th>\n",
              "      <th>Mid-Career Median Salary</th>\n",
              "      <th>Mid-Career 10th Percentile Salary</th>\n",
              "      <th>Mid-Career 25th Percentile Salary</th>\n",
              "      <th>Mid-Career 75th Percentile Salary</th>\n",
              "      <th>Mid-Career 90th Percentile Salary</th>\n",
              "    </tr>\n",
              "    <tr>\n",
              "      <th>School Type</th>\n",
              "      <th></th>\n",
              "      <th></th>\n",
              "      <th></th>\n",
              "      <th></th>\n",
              "      <th></th>\n",
              "      <th></th>\n",
              "      <th></th>\n",
              "    </tr>\n",
              "  </thead>\n",
              "  <tbody>\n",
              "    <tr>\n",
              "      <th>Engineering</th>\n",
              "      <td>Worcester Polytechnic Institute (WPI)</td>\n",
              "      <td>75500.0</td>\n",
              "      <td>126000.0</td>\n",
              "      <td>80000.0</td>\n",
              "      <td>104000.0</td>\n",
              "      <td>180000.0</td>\n",
              "      <td>220000.0</td>\n",
              "    </tr>\n",
              "    <tr>\n",
              "      <th>Ivy League</th>\n",
              "      <td>Yale University</td>\n",
              "      <td>66500.0</td>\n",
              "      <td>134000.0</td>\n",
              "      <td>68900.0</td>\n",
              "      <td>100000.0</td>\n",
              "      <td>234000.0</td>\n",
              "      <td>326000.0</td>\n",
              "    </tr>\n",
              "    <tr>\n",
              "      <th>Liberal Arts</th>\n",
              "      <td>Wittenberg University</td>\n",
              "      <td>54500.0</td>\n",
              "      <td>110000.0</td>\n",
              "      <td>70600.0</td>\n",
              "      <td>84900.0</td>\n",
              "      <td>185000.0</td>\n",
              "      <td>265000.0</td>\n",
              "    </tr>\n",
              "    <tr>\n",
              "      <th>Party</th>\n",
              "      <td>West Virginia University (WVU)</td>\n",
              "      <td>52900.0</td>\n",
              "      <td>96100.0</td>\n",
              "      <td>51300.0</td>\n",
              "      <td>71200.0</td>\n",
              "      <td>135000.0</td>\n",
              "      <td>209000.0</td>\n",
              "    </tr>\n",
              "    <tr>\n",
              "      <th>State</th>\n",
              "      <td>Western Washington University</td>\n",
              "      <td>59900.0</td>\n",
              "      <td>112000.0</td>\n",
              "      <td>67600.0</td>\n",
              "      <td>81000.0</td>\n",
              "      <td>149000.0</td>\n",
              "      <td>215000.0</td>\n",
              "    </tr>\n",
              "  </tbody>\n",
              "</table>\n",
              "</div>"
            ],
            "text/plain": [
              "                                        School Name  ...  Mid-Career 90th Percentile Salary\n",
              "School Type                                          ...                                   \n",
              "Engineering   Worcester Polytechnic Institute (WPI)  ...                           220000.0\n",
              "Ivy League                          Yale University  ...                           326000.0\n",
              "Liberal Arts                  Wittenberg University  ...                           265000.0\n",
              "Party                West Virginia University (WVU)  ...                           209000.0\n",
              "State                 Western Washington University  ...                           215000.0\n",
              "\n",
              "[5 rows x 7 columns]"
            ]
          },
          "metadata": {
            "tags": []
          },
          "execution_count": 274
        }
      ]
    },
    {
      "cell_type": "code",
      "metadata": {
        "id": "L0oBYmgYAoWx",
        "colab_type": "code",
        "colab": {
          "base_uri": "https://localhost:8080/",
          "height": 292
        },
        "outputId": "6fc43091-47a0-4247-ed94-3f7ed57c9506"
      },
      "source": [
        "df2"
      ],
      "execution_count": 275,
      "outputs": [
        {
          "output_type": "execute_result",
          "data": {
            "text/html": [
              "<div>\n",
              "<style scoped>\n",
              "    .dataframe tbody tr th:only-of-type {\n",
              "        vertical-align: middle;\n",
              "    }\n",
              "\n",
              "    .dataframe tbody tr th {\n",
              "        vertical-align: top;\n",
              "    }\n",
              "\n",
              "    .dataframe thead th {\n",
              "        text-align: right;\n",
              "    }\n",
              "</style>\n",
              "<table border=\"1\" class=\"dataframe\">\n",
              "  <thead>\n",
              "    <tr style=\"text-align: right;\">\n",
              "      <th></th>\n",
              "      <th>School Name</th>\n",
              "      <th>Starting Median Salary</th>\n",
              "      <th>Mid-Career Median Salary</th>\n",
              "      <th>Mid-Career 10th Percentile Salary</th>\n",
              "      <th>Mid-Career 25th Percentile Salary</th>\n",
              "      <th>Mid-Career 75th Percentile Salary</th>\n",
              "      <th>Mid-Career 90th Percentile Salary</th>\n",
              "    </tr>\n",
              "    <tr>\n",
              "      <th>School Type</th>\n",
              "      <th></th>\n",
              "      <th></th>\n",
              "      <th></th>\n",
              "      <th></th>\n",
              "      <th></th>\n",
              "      <th></th>\n",
              "      <th></th>\n",
              "    </tr>\n",
              "  </thead>\n",
              "  <tbody>\n",
              "    <tr>\n",
              "      <th>Engineering</th>\n",
              "      <td>California Institute of Technology (CIT)</td>\n",
              "      <td>46200.0</td>\n",
              "      <td>80000.0</td>\n",
              "      <td>42100.0</td>\n",
              "      <td>62100.0</td>\n",
              "      <td>99500.0</td>\n",
              "      <td>121000.0</td>\n",
              "    </tr>\n",
              "    <tr>\n",
              "      <th>Ivy League</th>\n",
              "      <td>Brown University</td>\n",
              "      <td>56200.0</td>\n",
              "      <td>107000.0</td>\n",
              "      <td>50300.0</td>\n",
              "      <td>71900.0</td>\n",
              "      <td>159000.0</td>\n",
              "      <td>210000.0</td>\n",
              "    </tr>\n",
              "    <tr>\n",
              "      <th>Liberal Arts</th>\n",
              "      <td>Amherst College</td>\n",
              "      <td>38500.0</td>\n",
              "      <td>63900.0</td>\n",
              "      <td>35600.0</td>\n",
              "      <td>42800.0</td>\n",
              "      <td>91600.0</td>\n",
              "      <td>93100.0</td>\n",
              "    </tr>\n",
              "    <tr>\n",
              "      <th>Party</th>\n",
              "      <td>Arizona State University (ASU)</td>\n",
              "      <td>41300.0</td>\n",
              "      <td>73000.0</td>\n",
              "      <td>36600.0</td>\n",
              "      <td>52800.0</td>\n",
              "      <td>106000.0</td>\n",
              "      <td>123000.0</td>\n",
              "    </tr>\n",
              "    <tr>\n",
              "      <th>State</th>\n",
              "      <td>Appalachian State University</td>\n",
              "      <td>34800.0</td>\n",
              "      <td>43900.0</td>\n",
              "      <td>22600.0</td>\n",
              "      <td>31800.0</td>\n",
              "      <td>60900.0</td>\n",
              "      <td>87600.0</td>\n",
              "    </tr>\n",
              "  </tbody>\n",
              "</table>\n",
              "</div>"
            ],
            "text/plain": [
              "                                           School Name  ...  Mid-Career 90th Percentile Salary\n",
              "School Type                                             ...                                   \n",
              "Engineering   California Institute of Technology (CIT)  ...                           121000.0\n",
              "Ivy League                            Brown University  ...                           210000.0\n",
              "Liberal Arts                           Amherst College  ...                            93100.0\n",
              "Party                   Arizona State University (ASU)  ...                           123000.0\n",
              "State                     Appalachian State University  ...                            87600.0\n",
              "\n",
              "[5 rows x 7 columns]"
            ]
          },
          "metadata": {
            "tags": []
          },
          "execution_count": 275
        }
      ]
    },
    {
      "cell_type": "markdown",
      "metadata": {
        "id": "Lnl6fYqCCVAf",
        "colab_type": "text"
      },
      "source": [
        "8.Display all schools where the engineering staring median salary is greater than65000 "
      ]
    },
    {
      "cell_type": "code",
      "metadata": {
        "id": "eMe_ZfDT_s1e",
        "colab_type": "code",
        "colab": {}
      },
      "source": [
        "df3=gp.get_group(\"Engineering\")"
      ],
      "execution_count": 276,
      "outputs": []
    },
    {
      "cell_type": "code",
      "metadata": {
        "id": "NlSLmTQ_BIPV",
        "colab_type": "code",
        "colab": {
          "base_uri": "https://localhost:8080/",
          "height": 84
        },
        "outputId": "cdb35229-10bf-4fb4-c7af-fc35f3b0b747"
      },
      "source": [
        "df3.loc[(df3[\"Starting Median Salary\"]>65000)][\"School Name\"]"
      ],
      "execution_count": 277,
      "outputs": [
        {
          "output_type": "execute_result",
          "data": {
            "text/plain": [
              "0    Massachusetts Institute of Technology (MIT)\n",
              "1       California Institute of Technology (CIT)\n",
              "2                            Harvey Mudd College\n",
              "Name: School Name, dtype: object"
            ]
          },
          "metadata": {
            "tags": []
          },
          "execution_count": 277
        }
      ]
    }
  ]
}